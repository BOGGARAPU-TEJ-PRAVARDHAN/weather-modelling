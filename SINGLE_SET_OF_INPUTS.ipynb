{
  "nbformat": 4,
  "nbformat_minor": 0,
  "metadata": {
    "colab": {
      "provenance": [],
      "authorship_tag": "ABX9TyOtFJJ5VmBfdaHDvGs2FyJ9",
      "include_colab_link": true
    },
    "kernelspec": {
      "name": "python3",
      "display_name": "Python 3"
    },
    "language_info": {
      "name": "python"
    }
  },
  "cells": [
    {
      "cell_type": "markdown",
      "metadata": {
        "id": "view-in-github",
        "colab_type": "text"
      },
      "source": [
        "<a href=\"https://colab.research.google.com/github/BOGGARAPU-TEJ-PRAVARDHAN/weather-modelling/blob/main/SINGLE_SET_OF_INPUTS.ipynb\" target=\"_parent\"><img src=\"https://colab.research.google.com/assets/colab-badge.svg\" alt=\"Open In Colab\"/></a>"
      ]
    },
    {
      "cell_type": "code",
      "execution_count": 1,
      "metadata": {
        "colab": {
          "base_uri": "https://localhost:8080/"
        },
        "id": "Q8WBEZs2CFbA",
        "outputId": "3c319803-b87f-4f1e-f7af-ee91d9b4ef68"
      },
      "outputs": [
        {
          "output_type": "stream",
          "name": "stdout",
          "text": [
            "Weather Condition: Stormy\n"
          ]
        }
      ],
      "source": [
        "import math\n",
        "\n",
        "def calculate_weather(temperature, humidity, wind, a, b, c, d):\n",
        "    score = a * temperature**2 + b * humidity + c * wind + d\n",
        "    if score > 50:\n",
        "        return \"Sunny\"\n",
        "    elif score > 30:\n",
        "        return \"Rainy\"\n",
        "    elif score > 10:\n",
        "        return \"Windy\"\n",
        "    else:\n",
        "        return \"Stormy\"\n",
        "\n",
        "# Get input values\n",
        "temperature = 2\n",
        "humidity= 4\n",
        "wind = 7\n",
        "\n",
        "# Get coefficients\n",
        "a = 0.5\n",
        "b = -0.2\n",
        "c = 0.1\n",
        "d = -15\n",
        "\n",
        "# Calculate weather condition\n",
        "weather_condition = calculate_weather(temperature, humidity, wind, a, b, c, d)\n",
        "\n",
        "print(f\"Weather Condition: {weather_condition}\")"
      ]
    }
  ]
}