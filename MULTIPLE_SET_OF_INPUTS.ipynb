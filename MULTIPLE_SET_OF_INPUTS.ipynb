{
  "nbformat": 4,
  "nbformat_minor": 0,
  "metadata": {
    "colab": {
      "provenance": [],
      "authorship_tag": "ABX9TyO1HBdjztjQRLQ8tztryfGH",
      "include_colab_link": true
    },
    "kernelspec": {
      "name": "python3",
      "display_name": "Python 3"
    },
    "language_info": {
      "name": "python"
    }
  },
  "cells": [
    {
      "cell_type": "markdown",
      "metadata": {
        "id": "view-in-github",
        "colab_type": "text"
      },
      "source": [
        "<a href=\"https://colab.research.google.com/github/BOGGARAPU-TEJ-PRAVARDHAN/weather-modelling/blob/main/MULTIPLE_SET_OF_INPUTS.ipynb\" target=\"_parent\"><img src=\"https://colab.research.google.com/assets/colab-badge.svg\" alt=\"Open In Colab\"/></a>"
      ]
    },
    {
      "cell_type": "code",
      "execution_count": 1,
      "metadata": {
        "colab": {
          "base_uri": "https://localhost:8080/"
        },
        "id": "rFZZEd_fCvFP",
        "outputId": "aa1b64c8-e6d4-4401-848b-44a4dc7d563b"
      },
      "outputs": [
        {
          "output_type": "stream",
          "name": "stdout",
          "text": [
            "Temperature: 30, Humidity: 50, Wind: 10, Weather Condition: Sunny\n",
            "Temperature: 25, Humidity: 60, Wind: 15, Weather Condition: Sunny\n",
            "Temperature: 20, Humidity: 70, Wind: 20, Weather Condition: Sunny\n"
          ]
        }
      ],
      "source": [
        "import math\n",
        "\n",
        "def calculate_weather(temperature, humidity, wind, a, b, c, d):\n",
        "    score = a * temperature**2 + b * humidity + c * wind + d\n",
        "    if score > 50:\n",
        "        return \"Sunny\"\n",
        "    elif score > 30:\n",
        "        return \"Rainy\"\n",
        "    elif score > 10:\n",
        "        return \"Windy\"\n",
        "    else:\n",
        "        return \"Stormy\"\n",
        "\n",
        "# Get input values\n",
        "input_values = [\n",
        "    (30, 50, 10),\n",
        "    (25, 60, 15),\n",
        "    (20, 70, 20)\n",
        "]\n",
        "\n",
        "# Get coefficients\n",
        "a = 0.5\n",
        "b = -0.2\n",
        "c = 0.1\n",
        "d = -15\n",
        "\n",
        "# Calculate weather conditions\n",
        "for temperature, humidity, wind in input_values:\n",
        "    weather_condition = calculate_weather(temperature, humidity, wind, a, b, c, d)\n",
        "    print(f\"Temperature: {temperature}, Humidity: {humidity}, Wind: {wind}, Weather Condition: {weather_condition}\")"
      ]
    }
  ]
}