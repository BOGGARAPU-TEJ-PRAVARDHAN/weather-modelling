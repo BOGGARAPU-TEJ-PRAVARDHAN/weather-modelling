{
  "nbformat": 4,
  "nbformat_minor": 0,
  "metadata": {
    "colab": {
      "provenance": [],
      "authorship_tag": "ABX9TyPoac1cujSzh/DkMrM6PiHj",
      "include_colab_link": true
    },
    "kernelspec": {
      "name": "python3",
      "display_name": "Python 3"
    },
    "language_info": {
      "name": "python"
    }
  },
  "cells": [
    {
      "cell_type": "markdown",
      "metadata": {
        "id": "view-in-github",
        "colab_type": "text"
      },
      "source": [
        "<a href=\"https://colab.research.google.com/github/BOGGARAPU-TEJ-PRAVARDHAN/weather-modelling/blob/main/WEATHER_MODELING.ipynb\" target=\"_parent\"><img src=\"https://colab.research.google.com/assets/colab-badge.svg\" alt=\"Open In Colab\"/></a>"
      ]
    },
    {
      "cell_type": "code",
      "source": [
        "import random\n",
        "\n",
        "# Define weather conditions\n",
        "weather_conditions = [\"Sunny\", \"Rainy\", \"Windy\", \"Stormy\"]\n",
        "\n",
        "# Take temperature, humidity, and wind as input\n",
        "temperature = float(input(\"Enter temperature: \"))\n",
        "humidity = float(input(\"Enter humidity: \"))\n",
        "wind = float(input(\"Enter wind: \"))\n",
        "\n",
        "# Define a function to predict weather\n",
        "def predict_weather(temp, humid, wind):\n",
        "    # Calculate weather prediction score\n",
        "    score = 0.5 * temp**2 - 0.2 * humid + 0.1 * wind - 15\n",
        "\n",
        "    # Determine weather condition based on score\n",
        "    if score > 50:\n",
        "        return \"Sunny\"\n",
        "    elif score > 30:\n",
        "        return \"Rainy\"\n",
        "    elif score > 10:\n",
        "        return \"Windy\"\n",
        "    else:\n",
        "        return \"Stormy\"\n",
        "\n",
        "# Predict weather\n",
        "predicted_weather = predict_weather(temperature, humidity, wind)\n",
        "\n",
        "# Print result\n",
        "print(f\"Temperature: {temperature}, Humidity: {humidity}, Wind: {wind}\")\n",
        "print(f\"Predicted Weather: {predicted_weather}\")\n",
        "\n",
        "\n"
      ],
      "metadata": {
        "colab": {
          "base_uri": "https://localhost:8080/"
        },
        "id": "FO14GsCg5Xdd",
        "outputId": "1459e589-55e6-4ce8-e8f4-e7181a39e484"
      },
      "execution_count": 4,
      "outputs": [
        {
          "output_type": "stream",
          "name": "stdout",
          "text": [
            "Enter temperature: 30\n",
            "Enter humidity: 50\n",
            "Enter wind: 10\n",
            "Temperature: 30.0, Humidity: 50.0, Wind: 10.0\n",
            "Predicted Weather: Sunny\n"
          ]
        }
      ]
    },
    {
      "cell_type": "code",
      "source": [],
      "metadata": {
        "id": "Pgmq_c2869RM"
      },
      "execution_count": null,
      "outputs": []
    }
  ]
}